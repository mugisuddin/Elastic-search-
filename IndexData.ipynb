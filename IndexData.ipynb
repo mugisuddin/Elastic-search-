{
 "cells": [
  {
   "cell_type": "code",
   "execution_count": 1,
   "metadata": {},
   "outputs": [],
   "source": [
    "from elasticsearch import Elasticsearch"
   ]
  },
  {
   "cell_type": "code",
   "execution_count": 2,
   "metadata": {},
   "outputs": [
    {
     "data": {
      "text/plain": [
       "True"
      ]
     },
     "execution_count": 2,
     "metadata": {},
     "output_type": "execute_result"
    }
   ],
   "source": [
    "es = Elasticsearch(\n",
    "\"https://localhost:9200\",\n",
    "basic_auth=(\"elastic\",\"-_aPQVxoveqsQr40we7r\"),\n",
    "ca_certs=\"D:\\ELASTIC SEARCH\\elasticsearch-8.11.1\\config\\certs\\http_ca.crt\")\n",
    "es.ping()"
   ]
  },
  {
   "cell_type": "markdown",
   "metadata": {},
   "source": [
    "## Prepare the Data"
   ]
  },
  {
   "cell_type": "code",
   "execution_count": 3,
   "metadata": {},
   "outputs": [],
   "source": [
    "import pandas as pd"
   ]
  },
  {
   "cell_type": "code",
   "execution_count": 4,
   "metadata": {},
   "outputs": [
    {
     "data": {
      "text/html": [
       "<div>\n",
       "<style scoped>\n",
       "    .dataframe tbody tr th:only-of-type {\n",
       "        vertical-align: middle;\n",
       "    }\n",
       "\n",
       "    .dataframe tbody tr th {\n",
       "        vertical-align: top;\n",
       "    }\n",
       "\n",
       "    .dataframe thead th {\n",
       "        text-align: right;\n",
       "    }\n",
       "</style>\n",
       "<table border=\"1\" class=\"dataframe\">\n",
       "  <thead>\n",
       "    <tr style=\"text-align: right;\">\n",
       "      <th></th>\n",
       "      <th>ProductID</th>\n",
       "      <th>ProductName</th>\n",
       "      <th>ProductBrand</th>\n",
       "      <th>Gender</th>\n",
       "      <th>Price (INR)</th>\n",
       "      <th>NumImages</th>\n",
       "      <th>Description</th>\n",
       "      <th>PrimaryColor</th>\n",
       "    </tr>\n",
       "  </thead>\n",
       "  <tbody>\n",
       "    <tr>\n",
       "      <th>0</th>\n",
       "      <td>10017413</td>\n",
       "      <td>DKNY Unisex Black &amp; Grey Printed Medium Trolle...</td>\n",
       "      <td>DKNY</td>\n",
       "      <td>Unisex</td>\n",
       "      <td>11745</td>\n",
       "      <td>7</td>\n",
       "      <td>Black and grey printed medium trolley bag, sec...</td>\n",
       "      <td>Black</td>\n",
       "    </tr>\n",
       "    <tr>\n",
       "      <th>1</th>\n",
       "      <td>10016283</td>\n",
       "      <td>EthnoVogue Women Beige &amp; Grey Made to Measure ...</td>\n",
       "      <td>EthnoVogue</td>\n",
       "      <td>Women</td>\n",
       "      <td>5810</td>\n",
       "      <td>7</td>\n",
       "      <td>Beige &amp; Grey made to measure kurta with churid...</td>\n",
       "      <td>Beige</td>\n",
       "    </tr>\n",
       "    <tr>\n",
       "      <th>2</th>\n",
       "      <td>10009781</td>\n",
       "      <td>SPYKAR Women Pink Alexa Super Skinny Fit High-...</td>\n",
       "      <td>SPYKAR</td>\n",
       "      <td>Women</td>\n",
       "      <td>899</td>\n",
       "      <td>7</td>\n",
       "      <td>Pink coloured wash 5-pocket high-rise cropped ...</td>\n",
       "      <td>Pink</td>\n",
       "    </tr>\n",
       "    <tr>\n",
       "      <th>3</th>\n",
       "      <td>10015921</td>\n",
       "      <td>Raymond Men Blue Self-Design Single-Breasted B...</td>\n",
       "      <td>Raymond</td>\n",
       "      <td>Men</td>\n",
       "      <td>5599</td>\n",
       "      <td>5</td>\n",
       "      <td>Blue self-design bandhgala suitBlue self-desig...</td>\n",
       "      <td>Blue</td>\n",
       "    </tr>\n",
       "    <tr>\n",
       "      <th>4</th>\n",
       "      <td>10017833</td>\n",
       "      <td>Parx Men Brown &amp; Off-White Slim Fit Printed Ca...</td>\n",
       "      <td>Parx</td>\n",
       "      <td>Men</td>\n",
       "      <td>759</td>\n",
       "      <td>5</td>\n",
       "      <td>Brown and off-white printed casual shirt, has ...</td>\n",
       "      <td>White</td>\n",
       "    </tr>\n",
       "  </tbody>\n",
       "</table>\n",
       "</div>"
      ],
      "text/plain": [
       "   ProductID                                        ProductName ProductBrand  \\\n",
       "0   10017413  DKNY Unisex Black & Grey Printed Medium Trolle...         DKNY   \n",
       "1   10016283  EthnoVogue Women Beige & Grey Made to Measure ...   EthnoVogue   \n",
       "2   10009781  SPYKAR Women Pink Alexa Super Skinny Fit High-...       SPYKAR   \n",
       "3   10015921  Raymond Men Blue Self-Design Single-Breasted B...      Raymond   \n",
       "4   10017833  Parx Men Brown & Off-White Slim Fit Printed Ca...         Parx   \n",
       "\n",
       "   Gender  Price (INR)  NumImages  \\\n",
       "0  Unisex        11745          7   \n",
       "1   Women         5810          7   \n",
       "2   Women          899          7   \n",
       "3     Men         5599          5   \n",
       "4     Men          759          5   \n",
       "\n",
       "                                         Description PrimaryColor  \n",
       "0  Black and grey printed medium trolley bag, sec...        Black  \n",
       "1  Beige & Grey made to measure kurta with churid...        Beige  \n",
       "2  Pink coloured wash 5-pocket high-rise cropped ...         Pink  \n",
       "3  Blue self-design bandhgala suitBlue self-desig...         Blue  \n",
       "4  Brown and off-white printed casual shirt, has ...        White  "
      ]
     },
     "execution_count": 4,
     "metadata": {},
     "output_type": "execute_result"
    }
   ],
   "source": [
    "df=pd.read_csv(\"myntra_products_catalog.csv\").loc[:499]\n",
    "df.head()"
   ]
  },
  {
   "cell_type": "code",
   "execution_count": 5,
   "metadata": {},
   "outputs": [
    {
     "data": {
      "text/plain": [
       "ProductID  ProductName  ProductBrand  Gender  Price (INR)  NumImages  Description  PrimaryColor\n",
       "False      False        False         False   False        False      False        False           468\n",
       "                                                                                   True             32\n",
       "Name: count, dtype: int64"
      ]
     },
     "execution_count": 5,
     "metadata": {},
     "output_type": "execute_result"
    }
   ],
   "source": [
    "df.isna().value_counts()"
   ]
  },
  {
   "cell_type": "code",
   "execution_count": 6,
   "metadata": {},
   "outputs": [],
   "source": [
    "df.fillna(\"none\", inplace=True)"
   ]
  },
  {
   "cell_type": "code",
   "execution_count": 7,
   "metadata": {},
   "outputs": [
    {
     "data": {
      "text/plain": [
       "ProductID  ProductName  ProductBrand  Gender  Price (INR)  NumImages  Description  PrimaryColor\n",
       "False      False        False         False   False        False      False        False           500\n",
       "Name: count, dtype: int64"
      ]
     },
     "execution_count": 7,
     "metadata": {},
     "output_type": "execute_result"
    }
   ],
   "source": [
    "df.isna().value_counts()"
   ]
  },
  {
   "cell_type": "markdown",
   "metadata": {},
   "source": [
    "## Convert the relevant field into Vector using BERT model using sbert.net"
   ]
  },
  {
   "cell_type": "code",
   "execution_count": 9,
   "metadata": {},
   "outputs": [
    {
     "name": "stderr",
     "output_type": "stream",
     "text": [
      "d:\\SEMANTIC SEARCH\\venv\\Lib\\site-packages\\tqdm\\auto.py:21: TqdmWarning: IProgress not found. Please update jupyter and ipywidgets. See https://ipywidgets.readthedocs.io/en/stable/user_install.html\n",
      "  from .autonotebook import tqdm as notebook_tqdm\n"
     ]
    }
   ],
   "source": [
    "from sentence_transformers import SentenceTransformer\n",
    "model = SentenceTransformer('all-mpnet-base-v2')"
   ]
  },
  {
   "cell_type": "code",
   "execution_count": 10,
   "metadata": {},
   "outputs": [
    {
     "data": {
      "text/html": [
       "<div>\n",
       "<style scoped>\n",
       "    .dataframe tbody tr th:only-of-type {\n",
       "        vertical-align: middle;\n",
       "    }\n",
       "\n",
       "    .dataframe tbody tr th {\n",
       "        vertical-align: top;\n",
       "    }\n",
       "\n",
       "    .dataframe thead th {\n",
       "        text-align: right;\n",
       "    }\n",
       "</style>\n",
       "<table border=\"1\" class=\"dataframe\">\n",
       "  <thead>\n",
       "    <tr style=\"text-align: right;\">\n",
       "      <th></th>\n",
       "      <th>ProductID</th>\n",
       "      <th>ProductName</th>\n",
       "      <th>ProductBrand</th>\n",
       "      <th>Gender</th>\n",
       "      <th>Price (INR)</th>\n",
       "      <th>NumImages</th>\n",
       "      <th>Description</th>\n",
       "      <th>PrimaryColor</th>\n",
       "      <th>DescriptionVector</th>\n",
       "    </tr>\n",
       "  </thead>\n",
       "  <tbody>\n",
       "    <tr>\n",
       "      <th>0</th>\n",
       "      <td>10017413</td>\n",
       "      <td>DKNY Unisex Black &amp; Grey Printed Medium Trolle...</td>\n",
       "      <td>DKNY</td>\n",
       "      <td>Unisex</td>\n",
       "      <td>11745</td>\n",
       "      <td>7</td>\n",
       "      <td>Black and grey printed medium trolley bag, sec...</td>\n",
       "      <td>Black</td>\n",
       "      <td>[0.027645882, -0.0026341544, -0.0035884061, 0....</td>\n",
       "    </tr>\n",
       "    <tr>\n",
       "      <th>1</th>\n",
       "      <td>10016283</td>\n",
       "      <td>EthnoVogue Women Beige &amp; Grey Made to Measure ...</td>\n",
       "      <td>EthnoVogue</td>\n",
       "      <td>Women</td>\n",
       "      <td>5810</td>\n",
       "      <td>7</td>\n",
       "      <td>Beige &amp; Grey made to measure kurta with churid...</td>\n",
       "      <td>Beige</td>\n",
       "      <td>[-0.02466069, -0.028755367, -0.02033252, 0.034...</td>\n",
       "    </tr>\n",
       "    <tr>\n",
       "      <th>2</th>\n",
       "      <td>10009781</td>\n",
       "      <td>SPYKAR Women Pink Alexa Super Skinny Fit High-...</td>\n",
       "      <td>SPYKAR</td>\n",
       "      <td>Women</td>\n",
       "      <td>899</td>\n",
       "      <td>7</td>\n",
       "      <td>Pink coloured wash 5-pocket high-rise cropped ...</td>\n",
       "      <td>Pink</td>\n",
       "      <td>[-0.04694324, 0.081827946, 0.048335165, -0.000...</td>\n",
       "    </tr>\n",
       "    <tr>\n",
       "      <th>3</th>\n",
       "      <td>10015921</td>\n",
       "      <td>Raymond Men Blue Self-Design Single-Breasted B...</td>\n",
       "      <td>Raymond</td>\n",
       "      <td>Men</td>\n",
       "      <td>5599</td>\n",
       "      <td>5</td>\n",
       "      <td>Blue self-design bandhgala suitBlue self-desig...</td>\n",
       "      <td>Blue</td>\n",
       "      <td>[-0.0150987515, -0.0102854, 0.009487293, -0.02...</td>\n",
       "    </tr>\n",
       "    <tr>\n",
       "      <th>4</th>\n",
       "      <td>10017833</td>\n",
       "      <td>Parx Men Brown &amp; Off-White Slim Fit Printed Ca...</td>\n",
       "      <td>Parx</td>\n",
       "      <td>Men</td>\n",
       "      <td>759</td>\n",
       "      <td>5</td>\n",
       "      <td>Brown and off-white printed casual shirt, has ...</td>\n",
       "      <td>White</td>\n",
       "      <td>[-0.01774658, 0.0062096184, 0.021813959, 0.026...</td>\n",
       "    </tr>\n",
       "  </tbody>\n",
       "</table>\n",
       "</div>"
      ],
      "text/plain": [
       "   ProductID                                        ProductName ProductBrand  \\\n",
       "0   10017413  DKNY Unisex Black & Grey Printed Medium Trolle...         DKNY   \n",
       "1   10016283  EthnoVogue Women Beige & Grey Made to Measure ...   EthnoVogue   \n",
       "2   10009781  SPYKAR Women Pink Alexa Super Skinny Fit High-...       SPYKAR   \n",
       "3   10015921  Raymond Men Blue Self-Design Single-Breasted B...      Raymond   \n",
       "4   10017833  Parx Men Brown & Off-White Slim Fit Printed Ca...         Parx   \n",
       "\n",
       "   Gender  Price (INR)  NumImages  \\\n",
       "0  Unisex        11745          7   \n",
       "1   Women         5810          7   \n",
       "2   Women          899          7   \n",
       "3     Men         5599          5   \n",
       "4     Men          759          5   \n",
       "\n",
       "                                         Description PrimaryColor  \\\n",
       "0  Black and grey printed medium trolley bag, sec...        Black   \n",
       "1  Beige & Grey made to measure kurta with churid...        Beige   \n",
       "2  Pink coloured wash 5-pocket high-rise cropped ...         Pink   \n",
       "3  Blue self-design bandhgala suitBlue self-desig...         Blue   \n",
       "4  Brown and off-white printed casual shirt, has ...        White   \n",
       "\n",
       "                                   DescriptionVector  \n",
       "0  [0.027645882, -0.0026341544, -0.0035884061, 0....  \n",
       "1  [-0.02466069, -0.028755367, -0.02033252, 0.034...  \n",
       "2  [-0.04694324, 0.081827946, 0.048335165, -0.000...  \n",
       "3  [-0.0150987515, -0.0102854, 0.009487293, -0.02...  \n",
       "4  [-0.01774658, 0.0062096184, 0.021813959, 0.026...  "
      ]
     },
     "execution_count": 10,
     "metadata": {},
     "output_type": "execute_result"
    }
   ],
   "source": [
    "df[\"DescriptionVector\"] = df[\"Description\"].apply(lambda x: model.encode(x))\n",
    "df.head()"
   ]
  },
  {
   "cell_type": "code",
   "execution_count": 11,
   "metadata": {},
   "outputs": [
    {
     "data": {
      "text/plain": [
       "True"
      ]
     },
     "execution_count": 11,
     "metadata": {},
     "output_type": "execute_result"
    }
   ],
   "source": [
    "es.ping()"
   ]
  },
  {
   "cell_type": "markdown",
   "metadata": {},
   "source": [
    "## Create new index in Elasticsearch"
   ]
  },
  {
   "cell_type": "code",
   "execution_count": 12,
   "metadata": {},
   "outputs": [],
   "source": [
    "from indexMapping import indexMapping"
   ]
  },
  {
   "cell_type": "code",
   "execution_count": 13,
   "metadata": {},
   "outputs": [
    {
     "name": "stdout",
     "output_type": "stream",
     "text": [
      "{'properties': {'ProductID': {'type': 'long'}, 'ProductName': {'type': 'text'}, 'ProductBrand': {'type': 'text'}, 'Gender': {'type': 'text'}, 'Price (INR)': {'type': 'long'}, 'NumImages': {'type': 'long'}, 'Description': {'type': 'text'}, 'PrimaryColor': {'type': 'text'}, 'DescriptionVector': {'type': 'dense_vector', 'dims': 768, 'index': True, 'similarity': 'l2_norm'}}}\n"
     ]
    }
   ],
   "source": [
    "print(indexMapping)"
   ]
  },
  {
   "cell_type": "code",
   "execution_count": 14,
   "metadata": {},
   "outputs": [
    {
     "data": {
      "text/plain": [
       "ObjectApiResponse({'acknowledged': True, 'shards_acknowledged': True, 'index': 'all_products'})"
      ]
     },
     "execution_count": 14,
     "metadata": {},
     "output_type": "execute_result"
    }
   ],
   "source": [
    "es.indices.create(index=\"all_products\",mappings=indexMapping)"
   ]
  },
  {
   "cell_type": "markdown",
   "metadata": {},
   "source": [
    "## Ingest the data into index"
   ]
  },
  {
   "cell_type": "code",
   "execution_count": 15,
   "metadata": {},
   "outputs": [],
   "source": [
    "record_list = df.to_dict(\"records\")"
   ]
  },
  {
   "cell_type": "code",
   "execution_count": 16,
   "metadata": {},
   "outputs": [
    {
     "data": {
      "text/plain": [
       "{'ProductID': 10017413,\n",
       " 'ProductName': 'DKNY Unisex Black & Grey Printed Medium Trolley Bag',\n",
       " 'ProductBrand': 'DKNY',\n",
       " 'Gender': 'Unisex',\n",
       " 'Price (INR)': 11745,\n",
       " 'NumImages': 7,\n",
       " 'Description': 'Black and grey printed medium trolley bag, secured with a TSA lockOne handle on the top and one on the side, has a trolley with a retractable handle on the top and four corner mounted inline skate wheelsOne main zip compartment, zip lining, two compression straps with click clasps, one zip compartment on the flap with three zip pocketsWarranty: 5 yearsWarranty provided by Brand Owner / Manufacturer',\n",
       " 'PrimaryColor': ' Black',\n",
       " 'DescriptionVector': array([ 2.76458822e-02, -2.63415440e-03, -3.58840614e-03,  5.13588078e-02,\n",
       "         3.09661515e-02,  1.40507463e-02,  7.27061229e-03,  3.13872024e-02,\n",
       "        -6.23786710e-02, -3.82887130e-03,  3.15214172e-02,  7.55471736e-02,\n",
       "         2.12643947e-03,  4.64892797e-02,  5.07448763e-02, -1.71942171e-02,\n",
       "         1.22892857e-02, -1.95682608e-02, -9.64851603e-02,  3.52679845e-03,\n",
       "        -1.83508657e-02,  2.58225650e-02, -3.12244035e-02,  5.46113029e-02,\n",
       "         2.11241543e-02,  8.97169113e-03,  1.99166238e-02,  2.25222819e-02,\n",
       "         5.33209369e-03, -5.24597093e-02,  2.56655440e-02, -2.64644083e-02,\n",
       "         1.60459783e-02, -2.47584824e-02,  1.45433171e-06, -5.99340089e-02,\n",
       "        -4.21297960e-02, -5.82053792e-03, -1.85586438e-02, -6.88411742e-02,\n",
       "         4.52963002e-02,  7.06151035e-03,  3.00954822e-02, -7.18991607e-02,\n",
       "         2.67853141e-02, -6.78085610e-02,  1.52005935e-02,  7.82434195e-02,\n",
       "        -3.86550315e-02, -1.53425895e-02,  3.39756571e-02,  1.37782879e-02,\n",
       "        -1.47241689e-02, -2.74834270e-03,  2.31590234e-02, -4.98686023e-02,\n",
       "        -5.12827840e-03,  5.24751395e-02,  1.36131579e-02, -1.93230193e-02,\n",
       "        -2.72569731e-02,  4.11068313e-02,  4.80893664e-02, -2.70953979e-02,\n",
       "         4.11908291e-02,  4.60447371e-02, -6.37177080e-02,  1.31804831e-02,\n",
       "         1.30296522e-03,  4.09116708e-02,  6.41553774e-02, -4.79832925e-02,\n",
       "         1.10396312e-03,  7.25232959e-02, -7.41473850e-05,  2.57207500e-03,\n",
       "         2.96356361e-02,  2.96355877e-02,  1.66539997e-02,  1.16769150e-02,\n",
       "        -4.72041443e-02,  6.52726144e-02, -5.69467843e-02,  5.62868044e-02,\n",
       "         2.87739746e-02,  3.27831432e-02,  2.21507922e-02,  2.87625883e-02,\n",
       "         9.41018108e-03, -2.78682914e-02,  5.07242465e-03, -1.35145020e-02,\n",
       "         2.92993318e-02,  1.73486546e-02, -7.76379695e-03, -8.01694840e-02,\n",
       "         5.42521961e-02, -5.81912547e-02,  3.02955601e-02, -2.88303327e-02,\n",
       "         1.04822842e-02,  4.99632210e-02, -1.98193043e-02,  2.69686384e-03,\n",
       "        -5.78294601e-03,  3.49555686e-02, -1.04184076e-02, -1.53066113e-03,\n",
       "        -8.06272402e-02,  3.73889282e-02,  2.62705963e-02, -2.40433402e-02,\n",
       "        -4.65659350e-02,  3.46576571e-02, -3.50579321e-02,  2.76909582e-02,\n",
       "        -1.99475624e-02,  2.66633555e-02,  3.83038931e-02, -3.57962865e-03,\n",
       "        -1.11198751e-02, -3.43021229e-02, -5.00615835e-02, -2.43400433e-03,\n",
       "         2.01843325e-02, -4.51828539e-02, -4.48807813e-02, -4.15880531e-02,\n",
       "        -1.21017359e-02,  4.56552915e-02, -4.09716330e-02,  3.33762318e-02,\n",
       "         4.05118726e-02, -1.42122796e-02, -2.18980704e-02,  2.38488074e-02,\n",
       "        -3.59017104e-02, -3.51186804e-02, -5.59868068e-02, -2.04212368e-02,\n",
       "        -1.90294685e-03, -2.63332594e-02,  6.62040105e-03,  2.82202791e-02,\n",
       "        -3.89377102e-02, -3.85373235e-02,  3.99998538e-02,  3.73884826e-03,\n",
       "        -3.34510840e-02, -6.12203404e-02, -7.10495412e-02,  1.82613097e-02,\n",
       "         4.99361604e-02, -1.96538698e-02,  3.62079926e-02,  1.36305392e-02,\n",
       "         3.72649357e-02, -1.86512545e-02, -2.54693273e-02,  1.35054206e-02,\n",
       "         2.56374348e-02, -2.38314793e-02, -2.21330319e-02,  2.39106198e-03,\n",
       "        -5.98022193e-02, -2.13336479e-02, -9.58661083e-03, -6.31967606e-03,\n",
       "        -3.08499932e-02, -1.75864417e-02, -1.89545993e-02, -3.34730223e-02,\n",
       "        -2.12752214e-03, -3.45624587e-03, -1.71548463e-02,  7.40249008e-02,\n",
       "         3.30892089e-03, -5.94480857e-02, -4.20914926e-02, -4.85316338e-03,\n",
       "        -1.24044493e-02, -1.11631401e-01,  5.64271547e-02, -7.50050694e-03,\n",
       "        -2.17745337e-03, -8.79484694e-03, -5.20507433e-03,  2.68772733e-03,\n",
       "        -1.67976357e-02, -6.23680837e-02,  3.14838290e-02, -3.52155007e-02,\n",
       "         8.10609385e-02,  3.64167728e-02,  9.73861315e-04, -3.69658880e-02,\n",
       "         2.52881297e-03, -7.46890604e-02,  8.42567906e-03, -1.65020302e-02,\n",
       "        -7.72045478e-02, -1.85621530e-02,  5.66542242e-03, -1.47189917e-02,\n",
       "        -1.65352393e-02,  4.13800217e-02, -2.33762749e-02,  9.86003224e-03,\n",
       "        -5.00026383e-02,  4.48232749e-03,  3.75415646e-02,  2.56805494e-02,\n",
       "        -2.02897657e-03, -5.84916882e-02, -1.47918509e-02, -1.84917520e-03,\n",
       "         2.87931971e-02, -2.44094655e-02,  1.05893677e-02,  4.51087393e-02,\n",
       "         6.12144470e-02,  1.33142546e-02,  5.87451123e-02, -1.59004219e-02,\n",
       "         4.00180668e-02,  1.64473318e-02,  1.43469833e-02, -2.68046688e-02,\n",
       "         7.16700554e-02,  8.84745084e-03, -6.41264720e-03,  1.15750823e-03,\n",
       "        -3.68435085e-02,  2.93020252e-02, -3.14095058e-02, -6.79306593e-03,\n",
       "         8.94472525e-02,  5.99375851e-02, -8.24594032e-03,  2.58784015e-02,\n",
       "        -4.22716774e-02,  1.91916712e-02,  2.88722920e-04,  4.13901964e-03,\n",
       "        -5.83747178e-02,  6.08172491e-02, -3.75355817e-02, -3.70273702e-02,\n",
       "        -6.11727405e-03, -1.42938113e-02, -8.24460387e-03,  1.60564773e-03,\n",
       "         3.51404361e-02, -1.88067555e-02, -2.16341484e-02, -5.51069491e-02,\n",
       "        -5.03754523e-03,  3.81736904e-02,  2.06448473e-02,  2.99759838e-03,\n",
       "         2.01757047e-02, -8.43656249e-03,  3.04719061e-03, -2.86358851e-03,\n",
       "         5.25486730e-02,  1.00490882e-03,  5.10404892e-02,  9.56351124e-03,\n",
       "         1.99479032e-02, -3.06443088e-02, -6.84511475e-03, -1.10092387e-02,\n",
       "         1.72651652e-02, -9.95550770e-03, -1.40040210e-02, -4.78950068e-02,\n",
       "         4.48317453e-02,  2.99811666e-03, -5.05880080e-03, -1.37886852e-02,\n",
       "        -1.93421412e-02, -2.25321371e-02, -4.01583202e-02, -2.50679515e-02,\n",
       "        -1.73990242e-02,  7.81950634e-03, -4.38657403e-02,  1.10517591e-02,\n",
       "        -5.72644407e-03,  2.99920421e-02, -4.39987108e-02, -4.38917225e-04,\n",
       "        -6.25566766e-03, -3.10895331e-02,  1.94589868e-02, -2.74248049e-02,\n",
       "        -9.93124209e-03, -4.21830453e-02,  2.52597108e-02,  2.97783669e-02,\n",
       "         4.61614830e-03, -3.88785526e-02, -3.68001647e-02,  8.19746498e-03,\n",
       "        -1.57801225e-03, -3.11216409e-03,  2.27061398e-02, -3.63272987e-02,\n",
       "        -2.32268050e-02,  3.96531746e-02, -1.75962057e-02,  7.61351082e-03,\n",
       "        -4.49805744e-02, -9.71957222e-02,  6.55073393e-03, -4.07042839e-02,\n",
       "        -4.23453115e-02,  2.21425574e-02, -1.69916470e-02,  9.62368324e-02,\n",
       "        -4.27954160e-02,  2.88663562e-02,  3.25763337e-02, -1.60414428e-02,\n",
       "        -2.20179353e-02, -4.18679714e-02, -6.52636364e-02, -2.43135355e-02,\n",
       "         3.35064456e-02, -2.16999706e-02,  4.89503220e-02, -3.22210081e-02,\n",
       "         5.66819273e-02,  3.94777954e-02, -6.04452826e-02, -8.55641887e-02,\n",
       "        -4.11012806e-02, -5.89925516e-03,  4.48789150e-02,  3.86384465e-02,\n",
       "         2.37330161e-02, -3.74433352e-03, -7.40815513e-03, -3.48129272e-02,\n",
       "        -1.26407323e-02, -8.32107216e-02, -7.77608762e-03,  8.24048242e-04,\n",
       "        -2.08234843e-02,  4.96381707e-03,  1.02756526e-02,  7.34596997e-02,\n",
       "         4.56728414e-02, -1.11290542e-02, -8.89229239e-04,  3.50867249e-02,\n",
       "        -5.21464273e-04,  3.29106003e-02,  3.92490178e-02,  9.39376466e-03,\n",
       "        -3.05088852e-02,  1.42532531e-02, -1.87871367e-04,  1.48091922e-02,\n",
       "         3.88668291e-02,  2.09767185e-02,  1.69476364e-02,  6.42409548e-02,\n",
       "         1.02789626e-02,  1.05284173e-02,  4.56122719e-02,  4.24702354e-02,\n",
       "         3.24789174e-02,  3.20182033e-02, -2.87148263e-02, -7.86708854e-03,\n",
       "         9.84600838e-03,  4.08063829e-02, -1.92641355e-02, -6.10289397e-03,\n",
       "         5.00562117e-02,  1.64055713e-02,  4.35197316e-02, -1.09658130e-02,\n",
       "         3.21553349e-02, -3.21289711e-02,  4.05221060e-03, -1.42193055e-02,\n",
       "        -1.72176696e-02, -2.24060379e-02,  3.41360830e-02,  1.79262590e-02,\n",
       "        -8.28827266e-03,  5.04024625e-02, -3.55287679e-02,  2.78952792e-02,\n",
       "         2.46789609e-03, -2.67918059e-03, -3.25403474e-02,  1.17414761e-02,\n",
       "        -2.00907979e-02,  4.24936861e-02,  3.08380015e-02,  1.66973136e-02,\n",
       "         3.07387859e-02, -4.58765104e-02, -5.39871585e-03,  1.92521196e-02,\n",
       "        -2.37640496e-02, -4.52494808e-02, -3.50061394e-02, -6.26829499e-03,\n",
       "        -3.49792056e-02,  6.37186989e-02, -4.95002605e-02, -8.27830508e-02,\n",
       "         2.43392680e-03, -7.25408494e-02,  5.77693209e-02, -3.55351754e-02,\n",
       "         1.10670249e-03,  7.00728793e-04, -2.26268377e-02,  1.01695554e-02,\n",
       "         1.71284974e-02, -1.74754653e-02, -3.18570472e-02, -6.42488077e-02,\n",
       "        -3.10207400e-02, -3.18854786e-02,  3.82462256e-02,  3.10538709e-02,\n",
       "        -2.99189948e-02,  1.83081720e-02, -5.88303618e-02, -2.38675363e-02,\n",
       "         3.73598635e-02,  2.49050539e-02, -6.08941466e-02, -8.83549545e-03,\n",
       "        -4.21162397e-02, -4.55484614e-02, -1.47926174e-02, -2.38328706e-02,\n",
       "        -4.74841846e-03, -4.89294641e-02, -1.93929914e-02, -4.01563011e-02,\n",
       "        -8.04088078e-03, -7.47550279e-02,  2.10539135e-03,  1.64749585e-02,\n",
       "         8.30394030e-02,  1.55175161e-02,  4.70302515e-02, -4.48355675e-02,\n",
       "         5.50825521e-02, -7.38567710e-02, -3.09091825e-02,  1.67554170e-02,\n",
       "         5.06773777e-02,  2.49253064e-02, -7.24060461e-02,  3.98997478e-02,\n",
       "         2.13703280e-03, -1.89519450e-02, -1.86338313e-02,  1.30079556e-02,\n",
       "         1.97983570e-02, -3.67520377e-02, -4.02529165e-02, -4.21340344e-03,\n",
       "        -1.62019413e-02, -3.34676122e-03,  4.09932099e-02, -2.45060008e-02,\n",
       "        -1.03826988e-02, -4.73150909e-02,  5.08266576e-02, -5.92375733e-03,\n",
       "        -3.16211313e-04, -6.27383403e-03,  1.60506424e-02,  1.63368713e-02,\n",
       "         2.72355601e-02,  2.05409881e-02,  2.15955358e-02, -1.16070993e-02,\n",
       "         1.46542359e-02, -5.12824692e-02,  1.70999970e-02, -6.01727739e-02,\n",
       "        -1.86470225e-02, -1.95505675e-02,  5.43012321e-02,  1.48305103e-01,\n",
       "         6.39535710e-02, -4.22865758e-03,  2.49036439e-02, -5.27662821e-02,\n",
       "         8.22670199e-03,  3.78340147e-02, -6.19606720e-03, -3.93907465e-02,\n",
       "         3.58749293e-02,  1.18881790e-02,  2.66932212e-02,  1.62878782e-02,\n",
       "         6.09422214e-02, -1.60512067e-02,  3.50100658e-04,  2.91722361e-02,\n",
       "        -7.17696780e-03, -2.95379050e-02,  6.30705655e-02,  5.02149686e-02,\n",
       "        -5.33038452e-02, -9.42943804e-03,  1.98485758e-02, -2.10122038e-02,\n",
       "         3.09328288e-02, -1.42166382e-02,  3.32838632e-02,  2.94382647e-02,\n",
       "         1.26157086e-02,  4.95138504e-02,  1.15885064e-02,  2.58325646e-03,\n",
       "         4.47752699e-02,  5.12729771e-02, -2.06900891e-02, -8.23472068e-03,\n",
       "        -7.23874290e-03,  1.32843563e-02, -5.08004613e-02,  7.57653192e-02,\n",
       "        -8.74614194e-02,  4.24297750e-02,  1.12237222e-02,  9.69018220e-05,\n",
       "        -4.58215177e-02, -1.55912582e-02,  2.53331326e-02, -5.37833991e-03,\n",
       "        -3.63488682e-04,  3.69622447e-02, -4.63643521e-02, -1.23736681e-03,\n",
       "         5.76700047e-02, -7.09540173e-02,  1.54587198e-02, -6.11975007e-02,\n",
       "        -1.10918805e-01, -3.09237931e-03,  2.27634814e-02, -4.78635990e-33,\n",
       "         3.12270634e-02, -6.63603544e-02, -2.36832164e-02,  2.42750309e-02,\n",
       "        -2.04049470e-03, -4.47732443e-03,  4.22935234e-03, -4.12173290e-03,\n",
       "        -3.53075303e-02, -2.23746952e-02,  1.80854183e-02, -3.13035375e-03,\n",
       "         3.27593498e-02,  4.38901642e-03,  6.06583431e-02,  1.11367814e-02,\n",
       "         2.70508118e-02, -7.78139848e-03, -6.00768672e-03, -2.07057390e-02,\n",
       "        -3.77762280e-02, -9.80800390e-03,  4.01681401e-02,  3.02954987e-02,\n",
       "         5.43257445e-02, -9.85897779e-02, -2.94534257e-03,  2.91572511e-02,\n",
       "         3.44493799e-02, -8.56010988e-03, -7.64997303e-02,  2.66990089e-03,\n",
       "         2.50924658e-02,  3.52500156e-02,  5.67993894e-02,  2.29065847e-02,\n",
       "         5.05906381e-02, -4.30481061e-02,  3.37688737e-02,  9.36798938e-03,\n",
       "         1.14865741e-02, -5.23019135e-02, -1.63467713e-02, -1.74134430e-02,\n",
       "        -8.21103094e-05,  6.74261292e-03, -3.11616492e-02,  3.66182141e-02,\n",
       "        -3.53261903e-02,  1.54255098e-02,  6.49727285e-02,  1.90679878e-02,\n",
       "        -2.05425583e-02, -1.29935360e-02,  3.07242088e-02,  3.60369682e-02,\n",
       "        -7.30988756e-03, -3.42608690e-02,  3.69405933e-02, -1.68615133e-02,\n",
       "        -6.95912391e-02, -3.51376124e-02, -1.96794048e-02, -2.16357335e-02,\n",
       "        -1.91740692e-02, -7.22268643e-03, -9.27114114e-03,  3.80432531e-02,\n",
       "        -7.26440325e-02, -3.93156372e-02,  3.23890737e-04, -1.54596167e-02,\n",
       "        -5.66323698e-02, -2.86029018e-02, -3.38707641e-02, -8.40216037e-03,\n",
       "         3.27712409e-02, -1.23575758e-02,  5.67503199e-02,  1.07323520e-01,\n",
       "         1.62491004e-03,  1.98507328e-02, -4.92324643e-02,  4.31417907e-03,\n",
       "        -2.76763421e-02, -3.61421593e-02,  2.83705648e-02, -3.32536288e-02,\n",
       "         6.01911470e-02,  7.16084195e-03, -3.21193598e-02,  1.00305587e-01,\n",
       "         2.48313267e-02,  3.09539270e-02, -1.87183905e-03, -1.96664259e-02,\n",
       "         2.54117660e-02,  2.17062179e-02, -1.50588313e-02,  9.16997809e-03,\n",
       "         3.92968953e-03,  5.89960068e-02, -3.26567367e-02, -7.23024383e-02,\n",
       "         4.42396849e-02, -8.09966028e-03,  3.66033576e-02, -6.47037430e-03,\n",
       "        -5.15288748e-02,  5.74737787e-02,  3.27605009e-02, -3.47869769e-02,\n",
       "         1.15345279e-03, -5.10835089e-02, -2.02773185e-03, -1.37376674e-02,\n",
       "        -2.26375298e-03, -1.46535747e-02,  2.56580580e-02, -3.41950431e-02,\n",
       "         3.11359912e-02,  1.11530228e-02, -2.26282123e-02, -1.86210425e-04,\n",
       "        -3.42382528e-02, -3.47216800e-03,  7.12009473e-03,  2.85437927e-02,\n",
       "         3.43615413e-02,  4.17479202e-02,  1.46220708e-02, -1.00901164e-02,\n",
       "         2.19874622e-07,  1.26034181e-04, -3.26406136e-02,  2.73180120e-02,\n",
       "        -4.31562699e-02,  6.41152915e-03,  3.25414562e-03,  2.88389367e-03,\n",
       "         1.68630462e-02, -3.92218726e-03, -3.99216413e-02, -2.82338709e-02,\n",
       "         6.63915742e-03,  9.65183135e-03, -6.46978151e-04,  8.58047605e-02,\n",
       "        -5.46625741e-02,  9.56461579e-02, -3.35841477e-02, -3.86988483e-02,\n",
       "         1.08060576e-02,  8.10266733e-02,  4.47365176e-03,  5.54964915e-02,\n",
       "         2.06635725e-02, -1.76942907e-02, -7.89712146e-02, -9.13338456e-03,\n",
       "        -5.91490157e-02, -1.78459212e-02, -2.83569172e-02,  2.71815136e-02,\n",
       "         2.92243920e-02, -4.04383801e-02, -2.55332235e-02,  1.53778950e-02,\n",
       "         1.23813627e-02,  2.65146941e-02,  4.36860546e-02,  7.80087560e-02,\n",
       "         1.78200882e-02, -3.01126204e-02,  1.06307054e-02, -5.10762222e-02,\n",
       "        -1.62147693e-02,  2.78100390e-02,  5.96088320e-02, -1.07442783e-02,\n",
       "         5.74155450e-02, -4.65736911e-02,  4.81009483e-03,  3.75612378e-02,\n",
       "        -2.49797497e-02,  1.24981012e-02,  3.64437215e-02, -1.03774825e-02,\n",
       "         3.94603610e-02,  5.78910299e-02, -5.18749058e-02, -1.85877476e-02,\n",
       "        -3.52998869e-03, -2.97394302e-02,  4.59078141e-02,  1.81125116e-03,\n",
       "         8.85510724e-03,  5.07806018e-02,  4.10649646e-03,  5.75011363e-03,\n",
       "         1.64168508e-34, -4.68514254e-03, -6.60453411e-03,  2.19717734e-02,\n",
       "        -4.97994423e-02,  2.23753005e-02,  8.27611017e-04,  6.58981130e-02,\n",
       "        -3.05624697e-02,  8.99443217e-03, -3.16481665e-02, -3.01023684e-02],\n",
       "       dtype=float32)}"
      ]
     },
     "execution_count": 16,
     "metadata": {},
     "output_type": "execute_result"
    }
   ],
   "source": [
    "record_list[0]"
   ]
  },
  {
   "cell_type": "code",
   "execution_count": 17,
   "metadata": {},
   "outputs": [],
   "source": [
    "for record in record_list:\n",
    "    try:\n",
    "        es.index(index=\"all_products\", document=record, id=record[\"ProductID\"])\n",
    "    except Exception as e:\n",
    "        print(e)"
   ]
  },
  {
   "cell_type": "code",
   "execution_count": 18,
   "metadata": {},
   "outputs": [
    {
     "data": {
      "text/plain": [
       "ObjectApiResponse({'count': 500, '_shards': {'total': 1, 'successful': 1, 'skipped': 0, 'failed': 0}})"
      ]
     },
     "execution_count": 18,
     "metadata": {},
     "output_type": "execute_result"
    }
   ],
   "source": [
    "es.count(index=\"all_products\")"
   ]
  },
  {
   "cell_type": "markdown",
   "metadata": {},
   "source": [
    "## Search the data "
   ]
  },
  {
   "cell_type": "code",
   "execution_count": 19,
   "metadata": {},
   "outputs": [],
   "source": [
    "input_keyword = \"Blue shoes\"\n",
    "vector_of_input_keyword = model.encode(input_keyword)"
   ]
  },
  {
   "cell_type": "code",
   "execution_count": 21,
   "metadata": {},
   "outputs": [
    {
     "name": "stderr",
     "output_type": "stream",
     "text": [
      "C:\\Users\\mugis\\AppData\\Local\\Temp\\ipykernel_16292\\3138564689.py:8: ElasticsearchWarning: The kNN search API has been replaced by the `knn` option in the search API.\n",
      "  res = es.knn_search(index=\"all_products\", knn= query , source=[\"ProductName\",\"Description\"])\n"
     ]
    },
    {
     "data": {
      "text/plain": [
       "[{'_index': 'all_products',\n",
       "  '_id': '10018013',\n",
       "  '_score': 0.6142943,\n",
       "  '_source': {'ProductName': 'Puma Men Blue Sneakers',\n",
       "   'Description': 'A pair of round-toe blue sneakers, has regular styling, lace-up detailTextile upperCushioned footbedTextured and patterned outsoleWarranty: 3 monthsWarranty provided by brand/manufacturer'}},\n",
       " {'_index': 'all_products',\n",
       "  '_id': '10018075',\n",
       "  '_score': 0.6142943,\n",
       "  '_source': {'ProductName': 'Puma Men Blue Sneakers',\n",
       "   'Description': 'A pair of round-toe blue sneakers, has regular styling, lace-up detailTextile upperCushioned footbedTextured and patterned outsoleWarranty: 3 monthsWarranty provided by brand/manufacturer'}}]"
      ]
     },
     "execution_count": 21,
     "metadata": {},
     "output_type": "execute_result"
    }
   ],
   "source": [
    "query = {\n",
    "    \"field\" : \"DescriptionVector\",\n",
    "    \"query_vector\" : vector_of_input_keyword,\n",
    "    \"k\" : 2,\n",
    "    \"num_candidates\": 500,\n",
    "}\n",
    "\n",
    "res = es.knn_search(index=\"all_products\", knn= query , source=[\"ProductName\",\"Description\"])\n",
    "res[\"hits\"][\"hits\"]"
   ]
  },
  {
   "cell_type": "code",
   "execution_count": null,
   "metadata": {},
   "outputs": [],
   "source": []
  }
 ],
 "metadata": {
  "kernelspec": {
   "display_name": "venv",
   "language": "python",
   "name": "python3"
  },
  "language_info": {
   "codemirror_mode": {
    "name": "ipython",
    "version": 3
   },
   "file_extension": ".py",
   "mimetype": "text/x-python",
   "name": "python",
   "nbconvert_exporter": "python",
   "pygments_lexer": "ipython3",
   "version": "3.11.5"
  }
 },
 "nbformat": 4,
 "nbformat_minor": 2
}
